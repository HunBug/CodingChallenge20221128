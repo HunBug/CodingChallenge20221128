{
 "cells": [
  {
   "attachments": {},
   "cell_type": "markdown",
   "metadata": {},
   "source": [
    "# Getting familiar with the data"
   ]
  },
  {
   "attachments": {},
   "cell_type": "markdown",
   "metadata": {},
   "source": [
    "## Import libraries"
   ]
  },
  {
   "cell_type": "code",
   "execution_count": 1,
   "metadata": {},
   "outputs": [],
   "source": [
    "import pandas as pd\n",
    "import pathlib"
   ]
  },
  {
   "attachments": {},
   "cell_type": "markdown",
   "metadata": {},
   "source": [
    "## Set environment variables"
   ]
  },
  {
   "cell_type": "code",
   "execution_count": 2,
   "metadata": {},
   "outputs": [],
   "source": [
    "DATA_DIR = pathlib.Path('../Coding Challenge - Data(20221128)')\n",
    "pd.set_option('display.max_columns', None)\n",
    "pd.set_option('display.expand_frame_repr', False)\n",
    "pd.set_option('max_colwidth', None)"
   ]
  },
  {
   "attachments": {},
   "cell_type": "markdown",
   "metadata": {},
   "source": [
    "## Load raw data"
   ]
  },
  {
   "cell_type": "code",
   "execution_count": 3,
   "metadata": {},
   "outputs": [
    {
     "name": "stdout",
     "output_type": "stream",
     "text": [
      "Stores\n",
      "                                     id        nam       laa category        lat         lon\n",
      "0  139a9a4b-1cb4-cb91-f718-d0bdd7db31c9  Aichi Ken  Agui Cho   ショッピング  34.951439  136.935126\n",
      "1  437e0dae-dbf7-b1a8-4a03-010b9597bbd2  Aichi Ken  Agui Cho    マッサージ  34.947078  136.884972\n",
      "2  2deb0ff0-5909-c169-4a23-4ed3979467fc  Aichi Ken  Agui Cho      その他  34.926083  136.928418\n",
      "3  093585a3-96ce-7513-4d60-1dd36c4b30d2  Aichi Ken  Agui Cho      カフェ  34.952815  136.889037\n",
      "4  d0637fde-e4c8-4c60-5817-a3494a623a6f  Aichi Ken  Agui Cho      グルメ  34.922963  136.892997\n",
      "\n",
      "Transactions\n",
      "                                     id                               user_id                              store_id            event_occurrence  amount\n",
      "0  a555eb55-1da4-6087-b5ab-06b35b608002  93098549-3ff0-e579-01c3-df9183278f64  a3c7874b-75df-9cf2-62ab-cf58be5d9e0e  2020-01-01 06:40:43.323987     315\n",
      "1  f699b867-e70c-5160-90c8-7dfa32dce0da  35ba9da1-98d0-cbb7-7844-e648601b7208  1d59adf3-94f2-f5f8-46c6-8558c544a3a9  2020-01-01 07:04:25.968615    1646\n",
      "2  5c3f8abc-f4e6-94fd-7b13-fe0efd4e4591  63cb5ee0-a457-9975-5455-4d76109bc754  c835f09d-ac5b-2005-1959-f452456a746a  2020-01-01 07:06:16.164563     385\n",
      "3  f033da1a-bafb-5faa-67e3-c76b07b04333  786fcb82-40cf-1dc9-b9ba-2541502ca95a  eaf4c05d-13e1-7c8a-9ae0-cf2ec2e3dcd2  2020-01-01 07:07:26.029685     166\n",
      "4  ccc35ffe-ee42-b696-783c-6670bfd800ec  acc814f5-beb6-db35-64f1-52f7c5a8466c  a8301ae2-df3b-ffe4-0279-c74af1dbb847  2020-01-01 07:12:24.448015     656\n",
      "\n",
      "Users\n",
      "                                     id gender   age\n",
      "0  3cf2d95c-851a-3e66-bd62-36050c1aa8dd      M  30.0\n",
      "1  a85536f3-1bf8-fbeb-d06e-62e6dc5a2a83      M  55.0\n",
      "2  355a293c-2c15-d6bd-45ce-cd3c275ee5a9      M  40.0\n",
      "3  61fb5b45-9bf8-1659-7a0c-b6f85a0f870b    NaN   NaN\n",
      "4  ff9e16ef-3a0b-9373-567f-fb07cbc96874      M  90.0\n"
     ]
    }
   ],
   "source": [
    "stores_df = pd.read_csv(DATA_DIR / 'stores.csv')\n",
    "transactions_df = pd.read_csv(DATA_DIR / 'transactions.csv')\n",
    "users_df = pd.read_csv(DATA_DIR / 'users.csv')\n",
    "\n",
    "print(\"Stores\")\n",
    "print(stores_df.head())\n",
    "print(\"\\nTransactions\")\n",
    "print(transactions_df.head())\n",
    "print(\"\\nUsers\")\n",
    "print(users_df.head())"
   ]
  },
  {
   "attachments": {},
   "cell_type": "markdown",
   "metadata": {},
   "source": [
    "## Prepared data\n",
    "### Marge dataframes to one, drop id columns"
   ]
  },
  {
   "cell_type": "code",
   "execution_count": 4,
   "metadata": {},
   "outputs": [
    {
     "data": {
      "text/html": [
       "<div>\n",
       "<style scoped>\n",
       "    .dataframe tbody tr th:only-of-type {\n",
       "        vertical-align: middle;\n",
       "    }\n",
       "\n",
       "    .dataframe tbody tr th {\n",
       "        vertical-align: top;\n",
       "    }\n",
       "\n",
       "    .dataframe thead th {\n",
       "        text-align: right;\n",
       "    }\n",
       "</style>\n",
       "<table border=\"1\" class=\"dataframe\">\n",
       "  <thead>\n",
       "    <tr style=\"text-align: right;\">\n",
       "      <th></th>\n",
       "      <th>event_occurrence</th>\n",
       "      <th>amount</th>\n",
       "      <th>gender</th>\n",
       "      <th>age</th>\n",
       "      <th>nam</th>\n",
       "      <th>laa</th>\n",
       "      <th>category</th>\n",
       "      <th>lat</th>\n",
       "      <th>lon</th>\n",
       "    </tr>\n",
       "  </thead>\n",
       "  <tbody>\n",
       "    <tr>\n",
       "      <th>0</th>\n",
       "      <td>2020-01-01 06:40:43.323987</td>\n",
       "      <td>315</td>\n",
       "      <td>M</td>\n",
       "      <td>88.0</td>\n",
       "      <td>Saitama Ken</td>\n",
       "      <td>Soka Shi</td>\n",
       "      <td>コンビニ</td>\n",
       "      <td>35.830649</td>\n",
       "      <td>139.809781</td>\n",
       "    </tr>\n",
       "    <tr>\n",
       "      <th>1</th>\n",
       "      <td>2020-01-01 07:04:25.968615</td>\n",
       "      <td>1646</td>\n",
       "      <td>M</td>\n",
       "      <td>44.0</td>\n",
       "      <td>Gunma Ken</td>\n",
       "      <td>Meiwa Cho</td>\n",
       "      <td>ショッピング</td>\n",
       "      <td>36.216801</td>\n",
       "      <td>139.562541</td>\n",
       "    </tr>\n",
       "    <tr>\n",
       "      <th>2</th>\n",
       "      <td>2020-01-01 07:06:16.164563</td>\n",
       "      <td>385</td>\n",
       "      <td>M</td>\n",
       "      <td>16.0</td>\n",
       "      <td>Hiroshima Ken</td>\n",
       "      <td>Fukuyama Shi</td>\n",
       "      <td>コンビニ</td>\n",
       "      <td>34.642260</td>\n",
       "      <td>133.257595</td>\n",
       "    </tr>\n",
       "    <tr>\n",
       "      <th>3</th>\n",
       "      <td>2020-01-01 07:07:26.029685</td>\n",
       "      <td>166</td>\n",
       "      <td>F</td>\n",
       "      <td>79.0</td>\n",
       "      <td>Tokyo To</td>\n",
       "      <td>Nerima Ku</td>\n",
       "      <td>グルメ</td>\n",
       "      <td>35.762485</td>\n",
       "      <td>139.661923</td>\n",
       "    </tr>\n",
       "    <tr>\n",
       "      <th>4</th>\n",
       "      <td>2020-01-01 07:12:24.448015</td>\n",
       "      <td>656</td>\n",
       "      <td>F</td>\n",
       "      <td>79.0</td>\n",
       "      <td>Tokyo To</td>\n",
       "      <td>Edogawa Ku</td>\n",
       "      <td>スーパーマーケット</td>\n",
       "      <td>35.692503</td>\n",
       "      <td>139.863613</td>\n",
       "    </tr>\n",
       "  </tbody>\n",
       "</table>\n",
       "</div>"
      ],
      "text/plain": [
       "             event_occurrence  amount gender   age            nam           laa   category        lat         lon\n",
       "0  2020-01-01 06:40:43.323987     315      M  88.0    Saitama Ken      Soka Shi       コンビニ  35.830649  139.809781\n",
       "1  2020-01-01 07:04:25.968615    1646      M  44.0      Gunma Ken     Meiwa Cho     ショッピング  36.216801  139.562541\n",
       "2  2020-01-01 07:06:16.164563     385      M  16.0  Hiroshima Ken  Fukuyama Shi       コンビニ  34.642260  133.257595\n",
       "3  2020-01-01 07:07:26.029685     166      F  79.0       Tokyo To     Nerima Ku        グルメ  35.762485  139.661923\n",
       "4  2020-01-01 07:12:24.448015     656      F  79.0       Tokyo To    Edogawa Ku  スーパーマーケット  35.692503  139.863613"
      ]
     },
     "execution_count": 4,
     "metadata": {},
     "output_type": "execute_result"
    }
   ],
   "source": [
    "# merge transactions and users\n",
    "dataframe = transactions_df.merge(users_df, left_on='user_id', right_on='id', how='left').merge(\n",
    "    stores_df, left_on='store_id', right_on='id', how='left').drop(columns=['id_x','id_y','id','user_id','store_id'])\n",
    "dataframe.head()"
   ]
  },
  {
   "attachments": {},
   "cell_type": "markdown",
   "metadata": {},
   "source": [
    "### Get basic information about data"
   ]
  },
  {
   "cell_type": "code",
   "execution_count": 5,
   "metadata": {},
   "outputs": [
    {
     "name": "stdout",
     "output_type": "stream",
     "text": [
      "<class 'pandas.core.frame.DataFrame'>\n",
      "Int64Index: 1582260 entries, 0 to 1582259\n",
      "Data columns (total 9 columns):\n",
      " #   Column            Non-Null Count    Dtype  \n",
      "---  ------            --------------    -----  \n",
      " 0   event_occurrence  1582260 non-null  object \n",
      " 1   amount            1582260 non-null  int64  \n",
      " 2   gender            1421978 non-null  object \n",
      " 3   age               1505614 non-null  float64\n",
      " 4   nam               1582260 non-null  object \n",
      " 5   laa               1582260 non-null  object \n",
      " 6   category          1582260 non-null  object \n",
      " 7   lat               1582260 non-null  float64\n",
      " 8   lon               1582260 non-null  float64\n",
      "dtypes: float64(3), int64(1), object(5)\n",
      "memory usage: 120.7+ MB\n",
      "None\n"
     ]
    }
   ],
   "source": [
    "# Get basic information about the dataframe\n",
    "print(dataframe.info())"
   ]
  },
  {
   "cell_type": "code",
   "execution_count": 6,
   "metadata": {},
   "outputs": [
    {
     "name": "stdout",
     "output_type": "stream",
     "text": [
      "UNIQUE\n",
      "event_occurrence    1582259\n",
      "amount                25888\n",
      "gender                    3\n",
      "age                      76\n",
      "nam                      47\n",
      "laa                    1646\n",
      "category                 16\n",
      "lat                   95460\n",
      "lon                   95460\n",
      "dtype: int64\n",
      "\n",
      "MISSING\n",
      "event_occurrence         0\n",
      "amount                   0\n",
      "gender              160282\n",
      "age                  76646\n",
      "nam                      0\n",
      "laa                      0\n",
      "category                 0\n",
      "lat                      0\n",
      "lon                      0\n",
      "dtype: int64\n"
     ]
    }
   ],
   "source": [
    "# Get the number of unique values in each column\n",
    "print(\"UNIQUE\")\n",
    "column_uniques = dataframe.nunique()\n",
    "print(column_uniques)\n",
    "# Get the number of missing values in each column\n",
    "print(\"\\nMISSING\")\n",
    "print(dataframe.isna().sum())\n"
   ]
  },
  {
   "cell_type": "code",
   "execution_count": 7,
   "metadata": {},
   "outputs": [
    {
     "name": "stdout",
     "output_type": "stream",
     "text": [
      "event_occurrence[1582259]: ['2020-01-01 06:40:43.323987' '2020-01-01 07:04:25.968615'\n",
      " '2020-01-01 07:06:16.164563' ... '2021-12-31 16:54:20.392210'\n",
      " '2021-12-31 17:04:31.609495' '2021-12-31 17:09:49.237044']\n",
      "gender[4]: ['M' 'F' nan 'OTHER']\n",
      "nam[47]: ['Saitama Ken' 'Gunma Ken' 'Hiroshima Ken' 'Tokyo To' 'Kagoshima Ken'\n",
      " 'Ehime Ken' 'Chiba Ken' 'Fukushima Ken' 'Kyoto Fu' 'Kanagawa Ken'\n",
      " 'Wakayama Ken' 'Gifu Ken' 'Mie Ken' 'Osaka Fu' 'Hyogo Ken' 'Niigata Ken'\n",
      " 'Hokkai Do' 'Ishikawa Ken' 'Aichi Ken' 'Kochi Ken' 'Okayama Ken'\n",
      " 'Miyagi Ken' 'Shizuoka Ken' 'Nara Ken' 'Fukui Ken' 'Fukuoka Ken'\n",
      " 'Shiga Ken' 'Ibaraki Ken' 'Nagano Ken' 'Toyama Ken' 'Oita Ken'\n",
      " 'Iwate Ken' 'Tottori Ken' 'Kumamoto Ken' 'Yamanashi Ken' 'Yamagata Ken'\n",
      " 'Nagasaki Ken' 'Tochigi Ken' 'Yamaguchi Ken' 'Aomori Ken' 'Miyazaki Ken'\n",
      " 'Shimane Ken' 'Saga Ken' 'Tokushima Ken' 'Kagawa Ken' 'Akita Ken'\n",
      " 'Okinawa Ken']\n",
      "laa[1646]: ['Soka Shi' 'Meiwa Cho' 'Fukuyama Shi' ... 'Furubira Cho' 'Rebun Cho'\n",
      " 'Yamae Mura']\n",
      "category[16]: ['コンビニ' 'ショッピング' 'グルメ' 'スーパーマーケット' 'ホテル・旅館' 'カフェ' 'エンタメ' 'マッサージ'\n",
      " 'ドラッグストア・薬局' 'その他' '美容院・サロン' 'ファッション' '百貨店・ショッピングセンター' '家電・携帯電話' 'クリーニング'\n",
      " '病院・クリニック']\n"
     ]
    }
   ],
   "source": [
    "# Get categorical columns\n",
    "category_columns = dataframe.select_dtypes(include=['object']).columns\n",
    "# Get distinct values in each categorical column\n",
    "for column in category_columns:\n",
    "    unique_values = dataframe[column].unique()\n",
    "    print(f\"{column}[{len(unique_values)}]: {unique_values}\")"
   ]
  },
  {
   "attachments": {},
   "cell_type": "markdown",
   "metadata": {},
   "source": [
    "## Convert datatypes"
   ]
  },
  {
   "cell_type": "code",
   "execution_count": 8,
   "metadata": {},
   "outputs": [
    {
     "name": "stdout",
     "output_type": "stream",
     "text": [
      "<class 'pandas.core.frame.DataFrame'>\n",
      "Int64Index: 1582260 entries, 0 to 1582259\n",
      "Data columns (total 9 columns):\n",
      " #   Column            Non-Null Count    Dtype         \n",
      "---  ------            --------------    -----         \n",
      " 0   event_occurrence  1582260 non-null  datetime64[ns]\n",
      " 1   amount            1582260 non-null  int64         \n",
      " 2   gender            1421978 non-null  category      \n",
      " 3   age               1505614 non-null  float64       \n",
      " 4   nam               1582260 non-null  category      \n",
      " 5   laa               1582260 non-null  category      \n",
      " 6   category          1582260 non-null  category      \n",
      " 7   lat               1582260 non-null  float64       \n",
      " 8   lon               1582260 non-null  float64       \n",
      "dtypes: category(4), datetime64[ns](1), float64(3), int64(1)\n",
      "memory usage: 80.1 MB\n"
     ]
    }
   ],
   "source": [
    "# Convert date columns to datetime\n",
    "dataframe['event_occurrence'] = pd.to_datetime(dataframe['event_occurrence'])\n",
    "# Convert categorical columns to category\n",
    "category_columns = ['gender', 'category', 'nam', 'laa']\n",
    "for column in category_columns:\n",
    "    dataframe[column] = dataframe[column].astype('category')\n",
    "dataframe.info()"
   ]
  }
 ],
 "metadata": {
  "kernelspec": {
   "display_name": "Python 3",
   "language": "python",
   "name": "python3"
  },
  "language_info": {
   "codemirror_mode": {
    "name": "ipython",
    "version": 3
   },
   "file_extension": ".py",
   "mimetype": "text/x-python",
   "name": "python",
   "nbconvert_exporter": "python",
   "pygments_lexer": "ipython3",
   "version": "3.11.2"
  },
  "orig_nbformat": 4
 },
 "nbformat": 4,
 "nbformat_minor": 2
}
